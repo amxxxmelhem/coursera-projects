{
 "cells": [
  {
   "cell_type": "markdown",
   "metadata": {},
   "source": [
    "# 2. Exploratory Data Analysis (EDA)\n",
    "Visualize payload and orbit-related launch success trends."
   ]
  },
  {
   "cell_type": "code",
   "execution_count": null,
   "metadata": {},
   "outputs": [],
   "source": [
    "# Sample EDA\n",
    "import seaborn as sns\n",
    "# Scatterplot, bar chart, etc."
   ]
  }
 ]
}