{
 "cells": [
  {
   "cell_type": "markdown",
   "metadata": {},
   "source": [
    "# 1. Data Collection & Wrangling\n",
    "**Objective:** Collect and clean SpaceX launch data.\n",
    "**Sources:** SpaceX API, Wikipedia, NASA datasets."
   ]
  },
  {
   "cell_type": "code",
   "execution_count": null,
   "metadata": {},
   "outputs": [],
   "source": [
    "# Sample code\n",
    "import pandas as pd\n",
    "# Load and clean your datasets here"
   ]
  }
 ]
}