{
 "cells": [
  {
   "cell_type": "markdown",
   "metadata": {},
   "source": [
    "# 5. SQL Analysis\n",
    "Analyze launch data with SQL queries."
   ]
  },
  {
   "cell_type": "code",
   "execution_count": null,
   "metadata": {},
   "outputs": [],
   "source": [
    "# Sample SQL with SQLite\n",
    "import sqlite3\n",
    "# Run SELECT queries"
   ]
  }
 ]
}