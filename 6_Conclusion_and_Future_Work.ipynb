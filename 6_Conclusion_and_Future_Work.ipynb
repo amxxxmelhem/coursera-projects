{
 "cells": [
  {
   "cell_type": "markdown",
   "metadata": {},
   "source": [
    "# 6. Conclusion and Future Work\n",
    "**Key Takeaways:**\n",
    "- Orbit and payload affect success.\n",
    "- Random Forest offers best prediction.\n",
    "- Evening launches showed better outcomes."
   ]
  }
 ]
}